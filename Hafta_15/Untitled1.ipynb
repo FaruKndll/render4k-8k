{
 "cells": [
  {
   "cell_type": "code",
   "execution_count": 1,
   "id": "7109dbf9-9c05-4d57-bb82-c22061cb807e",
   "metadata": {},
   "outputs": [
    {
     "name": "stderr",
     "output_type": "stream",
     "text": [
      "D:\\Anaconda3\\envs\\my_env\\lib\\site-packages\\tqdm\\auto.py:21: TqdmWarning: IProgress not found. Please update jupyter and ipywidgets. See https://ipywidgets.readthedocs.io/en/stable/user_install.html\n",
      "  from .autonotebook import tqdm as notebook_tqdm\n",
      "D:\\Anaconda3\\envs\\my_env\\lib\\site-packages\\RealESRGAN\\model.py:59: FutureWarning: `torch.cuda.amp.autocast(args...)` is deprecated. Please use `torch.amp.autocast('cuda', args...)` instead.\n",
      "  @torch.cuda.amp.autocast()\n",
      "D:\\Anaconda3\\envs\\my_env\\lib\\site-packages\\torch\\amp\\autocast_mode.py:266: UserWarning: User provided device_type of 'cuda', but CUDA is not available. Disabling\n",
      "  warnings.warn(\n"
     ]
    }
   ],
   "source": [
    "import torch\n",
    "from PIL import Image\n",
    "import numpy as np\n",
    "from RealESRGAN import RealESRGAN\n",
    "import time"
   ]
  },
  {
   "cell_type": "code",
   "execution_count": 11,
   "id": "be10f2e4-aebb-42a1-8008-832a57883c0e",
   "metadata": {},
   "outputs": [
    {
     "name": "stderr",
     "output_type": "stream",
     "text": [
      "Downloading: 100%|████████████████████████████████████████████████████████████████| 67.2M/67.2M [00:13<00:00, 5.03MB/s]\n"
     ]
    },
    {
     "name": "stdout",
     "output_type": "stream",
     "text": [
      "Weights downloaded to: weights\\RealESRGAN_x8.pth.pth\n",
      "Görüntü Çözünürlük İşlemi Başlatıldı...\n",
      "Görüntü oluşturuldu. Toplam Süre = 66.93186163902283\n"
     ]
    }
   ],
   "source": [
    "device = torch.device(\"cuda\" if torch.cuda.is_available()else \"cpu\")\n",
    "\n",
    "model = RealESRGAN(device, scale=8)\n",
    "model.load_weights(\"weights/RealESRGAN_x8.pth.pth\", download=True)\n",
    "\n",
    "my_image_path = \"inputs/farukkndll_profile_pic.png\"\n",
    "\n",
    "my_image = Image.open(my_image_path).convert(\"RGB\")\n",
    "\n",
    "sure_basla = time.time()\n",
    "\n",
    "print(\"Görüntü Çözünürlük İşlemi Başlatıldı...\")\n",
    "\n",
    "new_image = model.predict(my_image)\n",
    "\n",
    "sure_bitir = time.time()\n",
    "\n",
    "new_image.save(\"results/new8k.png\")\n",
    "print(f\"Görüntü oluşturuldu. Toplam Süre = {str(sure_bitir-sure_basla)}\")"
   ]
  },
  {
   "cell_type": "code",
   "execution_count": null,
   "id": "5ab45cfd-352f-4d75-bd0a-b82f63b81ecb",
   "metadata": {},
   "outputs": [],
   "source": []
  }
 ],
 "metadata": {
  "kernelspec": {
   "display_name": "Python (my_env)",
   "language": "python",
   "name": "my_env"
  },
  "language_info": {
   "codemirror_mode": {
    "name": "ipython",
    "version": 3
   },
   "file_extension": ".py",
   "mimetype": "text/x-python",
   "name": "python",
   "nbconvert_exporter": "python",
   "pygments_lexer": "ipython3",
   "version": "3.9.21"
  }
 },
 "nbformat": 4,
 "nbformat_minor": 5
}
