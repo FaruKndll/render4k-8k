{
 "cells": [
  {
   "cell_type": "code",
   "execution_count": 1,
   "id": "3dbb3afb-98f5-4f90-9c37-1a0bead2b424",
   "metadata": {},
   "outputs": [],
   "source": [
    "import requests\n",
    "import instaloader"
   ]
  },
  {
   "cell_type": "code",
   "execution_count": 3,
   "id": "6a173972-e5e3-40b7-bf68-b8844a21f7cf",
   "metadata": {},
   "outputs": [],
   "source": [
    "with open (\"./insta.txt\", encoding=\"utf-8\") as dosya:\n",
    "    my_list = dosya.readlines()\n",
    "\n",
    "my_username = my_list[0][:len(my_list[0])-1]\n",
    "my_password = my_list[1]"
   ]
  },
  {
   "cell_type": "code",
   "execution_count": 16,
   "id": "017d5c3b-0c00-40e4-9e77-e8b204b27246",
   "metadata": {},
   "outputs": [
    {
     "name": "stdout",
     "output_type": "stream",
     "text": [
      "farukkndll kullanucunun profil fotoğrafı indirildi\n"
     ]
    }
   ],
   "source": [
    "def download_profile_pic(insta_username):\n",
    "    load = instaloader.Instaloader()\n",
    "    try:\n",
    "        profile = instaloader.Profile.from_username(load.context, insta_username)\n",
    "        profile_pic_url = profile.profile_pic_url\n",
    "        response = requests.get(profile_pic_url)\n",
    "\n",
    "        with open(f\"{insta_username}_profile_pic.png\",\"wb\") as dosya:\n",
    "            dosya.write(response.content)\n",
    "\n",
    "        print(f\"{insta_username} kullanucunun profil fotoğrafı indirildi\")\n",
    "    except Exception as e:\n",
    "        print(f\"Hata = {e}\")\n",
    "username =\"farukkndll\"\n",
    "download_profile_pic(username)"
   ]
  },
  {
   "cell_type": "code",
   "execution_count": null,
   "id": "09f52599-10c9-4b24-adbd-7aa51344a937",
   "metadata": {},
   "outputs": [],
   "source": []
  }
 ],
 "metadata": {
  "kernelspec": {
   "display_name": "Python (my_env)",
   "language": "python",
   "name": "my_env"
  },
  "language_info": {
   "codemirror_mode": {
    "name": "ipython",
    "version": 3
   },
   "file_extension": ".py",
   "mimetype": "text/x-python",
   "name": "python",
   "nbconvert_exporter": "python",
   "pygments_lexer": "ipython3",
   "version": "3.9.21"
  }
 },
 "nbformat": 4,
 "nbformat_minor": 5
}
